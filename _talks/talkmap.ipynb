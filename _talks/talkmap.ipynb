{
 "cells": [
  {
   "cell_type": "markdown",
   "metadata": {},
   "source": [
    "# Leaflet cluster map of talk locations\n",
    "\n",
    "Run this from the _talks/ directory, which contains .md files of all your talks. This scrapes the location YAML field from each .md file, geolocates it with geopy/Nominatim, and uses the getorg library to output data, HTML, and Javascript for a standalone cluster map."
   ]
  },
  {
   "cell_type": "code",
   "execution_count": 1,
   "metadata": {
    "ExecuteTime": {
     "end_time": "2025-09-20T22:04:55.919328Z",
     "start_time": "2025-09-20T22:04:55.251569Z"
    }
   },
   "outputs": [
    {
     "name": "stdout",
     "output_type": "stream",
     "text": [
      "Iywidgets and ipyleaflet support disabled. You must be in a Jupyter notebook to use this feature.\n",
      "Error raised:\n",
      "No module named 'ipyleaflet'\n",
      "Check that you have enabled ipyleaflet in Jupyter with:\n",
      "    jupyter nbextension enable --py ipyleaflet\n"
     ]
    }
   ],
   "source": [
    "# !pip install getorg --upgrade\n",
    "import glob\n",
    "import getorg\n",
    "from geopy import Nominatim"
   ]
  },
  {
   "cell_type": "code",
   "execution_count": 2,
   "metadata": {
    "ExecuteTime": {
     "end_time": "2025-09-20T22:04:56.706437Z",
     "start_time": "2025-09-20T22:04:56.701837Z"
    }
   },
   "outputs": [],
   "source": [
    "g = glob.glob(\"*.md\")"
   ]
  },
  {
   "cell_type": "code",
   "execution_count": 3,
   "metadata": {
    "ExecuteTime": {
     "end_time": "2025-09-20T22:04:57.514959Z",
     "start_time": "2025-09-20T22:04:57.494233Z"
    }
   },
   "outputs": [
    {
     "data": {
      "text/plain": [
       "['talk-1.md',\n",
       " 'talk-10.md',\n",
       " 'talk-11.md',\n",
       " 'talk-2.md',\n",
       " 'talk-3.md',\n",
       " 'talk-4.md',\n",
       " 'talk-5.md',\n",
       " 'talk-6.md',\n",
       " 'talk-7.md',\n",
       " 'talk-8.md',\n",
       " 'talk-9.md']"
      ]
     },
     "execution_count": 3,
     "metadata": {},
     "output_type": "execute_result"
    }
   ],
   "source": [
    "g"
   ]
  },
  {
   "cell_type": "code",
   "execution_count": 4,
   "metadata": {
    "ExecuteTime": {
     "end_time": "2025-09-20T22:04:59.237346Z",
     "start_time": "2025-09-20T22:04:59.224748Z"
    }
   },
   "outputs": [],
   "source": [
    "geocoder = Nominatim(user_agent=\"talk_loc\")\n",
    "location_dict = {}\n",
    "location = \"\"\n",
    "permalink = \"\"\n",
    "title = \"\""
   ]
  },
  {
   "cell_type": "code",
   "execution_count": 5,
   "metadata": {
    "ExecuteTime": {
     "end_time": "2025-09-20T22:05:10.635978Z",
     "start_time": "2025-09-20T22:05:00.188349Z"
    }
   },
   "outputs": [
    {
     "name": "stdout",
     "output_type": "stream",
     "text": [
      "New Orleans, USA \n",
      " New Orleans, Orleans Parish, Louisiana, United States\n",
      "Stanford, USA \n",
      " Stanford, Santa Clara County, California, United States\n",
      "Singapore \n",
      " Singapore\n",
      "Seattle, USA \n",
      " Seattle, King County, Washington, United States\n",
      "Shanghai, China \n",
      " 上海市, 中国\n",
      "Kashiwa, Japan \n",
      " 柏市, 千葉県, 日本\n",
      "Portland, USA \n",
      " Portland, Multnomah County, Oregon, United States\n",
      "Guangzhou, China \n",
      " 广州市, 广东省, 中国\n",
      "Nashville, USA \n",
      " Nashville, Davidson County, Middle Tennessee, Tennessee, United States\n",
      "Storrs, USA \n",
      " Storrs, Mansfield, Capitol Planning Region, Connecticut, United States\n",
      "Baltimore, USA \n",
      " Baltimore, Maryland, United States\n"
     ]
    }
   ],
   "source": [
    "\n",
    "for file in g:\n",
    "    with open(file, 'r') as f:\n",
    "        lines = f.read()\n",
    "        if lines.find('location: \"') > 1:\n",
    "            loc_start = lines.find('location: \"') + 11\n",
    "            lines_trim = lines[loc_start:]\n",
    "            loc_end = lines_trim.find('\"')\n",
    "            location = lines_trim[:loc_end]\n",
    "                            \n",
    "           \n",
    "        location_dict[location] = geocoder.geocode(location, timeout=None)\n",
    "        print(location, \"\\n\", location_dict[location])\n"
   ]
  },
  {
   "cell_type": "code",
   "execution_count": 6,
   "metadata": {
    "ExecuteTime": {
     "end_time": "2025-09-20T22:05:24.311882Z",
     "start_time": "2025-09-20T22:05:24.296979Z"
    }
   },
   "outputs": [
    {
     "data": {
      "text/plain": [
       "{'New Orleans, USA': Location(New Orleans, Orleans Parish, Louisiana, United States, (29.9559145, -90.0730259, 0.0)),\n",
       " 'Stanford, USA': Location(Stanford, Santa Clara County, California, United States, (37.427467, -122.1702445, 0.0)),\n",
       " 'Singapore': Location(Singapore, (1.357107, 103.8194992, 0.0)),\n",
       " 'Seattle, USA': Location(Seattle, King County, Washington, United States, (47.6038321, -122.330062, 0.0)),\n",
       " 'Shanghai, China': Location(上海市, 中国, (31.2312707, 121.4700152, 0.0)),\n",
       " 'Kashiwa, Japan': Location(柏市, 千葉県, 日本, (35.8676218, 139.9756876, 0.0)),\n",
       " 'Portland, USA': Location(Portland, Multnomah County, Oregon, United States, (45.5202471, -122.674194, 0.0)),\n",
       " 'Guangzhou, China': Location(广州市, 广东省, 中国, (23.1301964, 113.2592945, 0.0)),\n",
       " 'Nashville, USA': Location(Nashville, Davidson County, Middle Tennessee, Tennessee, United States, (36.1622767, -86.7742984, 0.0)),\n",
       " 'Storrs, USA': Location(Storrs, Mansfield, Capitol Planning Region, Connecticut, United States, (41.8056456, -72.2541329, 0.0)),\n",
       " 'Baltimore, USA': Location(Baltimore, Maryland, United States, (39.2908816, -76.610759, 0.0))}"
      ]
     },
     "execution_count": 6,
     "metadata": {},
     "output_type": "execute_result"
    }
   ],
   "source": [
    "location_dict"
   ]
  },
  {
   "cell_type": "code",
   "execution_count": 7,
   "metadata": {
    "ExecuteTime": {
     "end_time": "2025-09-20T22:05:31.312979Z",
     "start_time": "2025-09-20T22:05:31.182183Z"
    }
   },
   "outputs": [
    {
     "data": {
      "text/plain": [
       "'Written map to ../talkmap/'"
      ]
     },
     "execution_count": 7,
     "metadata": {},
     "output_type": "execute_result"
    }
   ],
   "source": [
    "m = getorg.orgmap.create_map_obj()\n",
    "getorg.orgmap.output_html_cluster_map(location_dict, folder_name=\"../talkmap\", hashed_usernames=False)"
   ]
  },
  {
   "cell_type": "code",
   "execution_count": null,
   "metadata": {},
   "outputs": [],
   "source": []
  }
 ],
 "metadata": {
  "anaconda-cloud": {},
  "hide_input": false,
  "kernelspec": {
   "display_name": "Python 3 (ipykernel)",
   "language": "python",
   "name": "python3"
  },
  "language_info": {
   "codemirror_mode": {
    "name": "ipython",
    "version": 3
   },
   "file_extension": ".py",
   "mimetype": "text/x-python",
   "name": "python",
   "nbconvert_exporter": "python",
   "pygments_lexer": "ipython3",
   "version": "3.10.12"
  }
 },
 "nbformat": 4,
 "nbformat_minor": 1
}
